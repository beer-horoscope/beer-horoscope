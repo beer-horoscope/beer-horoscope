{
 "cells": [
  {
   "cell_type": "markdown",
   "metadata": {},
   "source": [
    "In this model we will use a latent factors model, a popular approach to [collaborative filtering](https://en.wikipedia.org/wiki/Collaborative_filtering#:~:text=In%20the%20newer%2C%20narrower%20sense,from%20many%20users%20(collaborating).\n",
    "\n",
    "We will be using a truncated [SVD](https://en.wikipedia.org/wiki/Singular_value_decomposition), because unlike a standard SVD, a truncated SVD produces a factorization where the number of columns can be specifies for a number of truncation, saving memory and processing power.\n",
    "\n",
    "The sk-learn package has a module to build a truncated SVD. "
   ]
  },
  {
   "cell_type": "code",
   "execution_count": 12,
   "metadata": {},
   "outputs": [],
   "source": [
    "import pandas as pd\n",
    "import numpy as np\n",
    "import pickle\n",
    "\n",
    "from sklearn.decomposition import TruncatedSVD\n",
    "from sklearn.preprocessing import StandardScaler\n",
    "import matplotlib.pyplot as plt"
   ]
  },
  {
   "cell_type": "code",
   "execution_count": 5,
   "metadata": {},
   "outputs": [],
   "source": [
    "#Read in data from a pickle file\n",
    "df = pd.read_pickle(\"beer_data.pickle\")\n",
    "\n",
    "#Shorten the dataset for testing purposes\n",
    "df = df.head(500000)"
   ]
  },
  {
   "cell_type": "markdown",
   "metadata": {},
   "source": [
    "We create a sparse pivot table which groups together the data in a meaningful way so we can train it later.\n",
    "In this case, we want out pivot table to contain the users, the item they rated, and the rating value. The rest of the values will be filled with 0s."
   ]
  },
  {
   "cell_type": "code",
   "execution_count": 6,
   "metadata": {},
   "outputs": [
    {
     "data": {
      "text/html": [
       "<div>\n",
       "<style scoped>\n",
       "    .dataframe tbody tr th:only-of-type {\n",
       "        vertical-align: middle;\n",
       "    }\n",
       "\n",
       "    .dataframe tbody tr th {\n",
       "        vertical-align: top;\n",
       "    }\n",
       "\n",
       "    .dataframe thead th {\n",
       "        text-align: right;\n",
       "    }\n",
       "</style>\n",
       "<table border=\"1\" class=\"dataframe\">\n",
       "  <thead>\n",
       "    <tr style=\"text-align: right;\">\n",
       "      <th>beer_name</th>\n",
       "      <th>\"100\" Pale Ale</th>\n",
       "      <th>\"33\" Export</th>\n",
       "      <th>\"76\" Anniversary Ale</th>\n",
       "      <th>\"76\" Anniversary Ale With English Hops</th>\n",
       "      <th>\"Fade To Black\" Porter</th>\n",
       "      <th>\"Great Satchmo\" Stout</th>\n",
       "      <th>\"Jessica &amp; Brendan's\" Bridal Ale</th>\n",
       "      <th>\"Just One More\" Scotch Ale</th>\n",
       "      <th>\"Nein Toll Bier\" German Alt</th>\n",
       "      <th>\"O Smokey Night\"</th>\n",
       "      <th>...</th>\n",
       "      <th>Über Pils</th>\n",
       "      <th>ÜberSun (Imperial Summer Wheat Beer)</th>\n",
       "      <th>à L'Agave Et Au Citron Vert</th>\n",
       "      <th>überPils</th>\n",
       "      <th>Świąteczne</th>\n",
       "      <th>Švyturys Nefiltruotas Raw</th>\n",
       "      <th>Žamberecký Kanec 14°</th>\n",
       "      <th>Žamberecký Kanec Imperial Stout</th>\n",
       "      <th>横須賀ビアサケ (Yokosuka Biasake)</th>\n",
       "      <th>葉山ビール (Hayama Beer)</th>\n",
       "    </tr>\n",
       "    <tr>\n",
       "      <th>review_profilename</th>\n",
       "      <th></th>\n",
       "      <th></th>\n",
       "      <th></th>\n",
       "      <th></th>\n",
       "      <th></th>\n",
       "      <th></th>\n",
       "      <th></th>\n",
       "      <th></th>\n",
       "      <th></th>\n",
       "      <th></th>\n",
       "      <th></th>\n",
       "      <th></th>\n",
       "      <th></th>\n",
       "      <th></th>\n",
       "      <th></th>\n",
       "      <th></th>\n",
       "      <th></th>\n",
       "      <th></th>\n",
       "      <th></th>\n",
       "      <th></th>\n",
       "      <th></th>\n",
       "    </tr>\n",
       "  </thead>\n",
       "  <tbody>\n",
       "    <tr>\n",
       "      <th>0110x011</th>\n",
       "      <td>0.0</td>\n",
       "      <td>0.0</td>\n",
       "      <td>0.0</td>\n",
       "      <td>0.0</td>\n",
       "      <td>0.0</td>\n",
       "      <td>0.0</td>\n",
       "      <td>0.0</td>\n",
       "      <td>0.0</td>\n",
       "      <td>0.0</td>\n",
       "      <td>0.0</td>\n",
       "      <td>...</td>\n",
       "      <td>0.0</td>\n",
       "      <td>0.0</td>\n",
       "      <td>0.0</td>\n",
       "      <td>0.0</td>\n",
       "      <td>0.0</td>\n",
       "      <td>0.0</td>\n",
       "      <td>0.0</td>\n",
       "      <td>0.0</td>\n",
       "      <td>0.0</td>\n",
       "      <td>0.0</td>\n",
       "    </tr>\n",
       "    <tr>\n",
       "      <th>03SVTCobra</th>\n",
       "      <td>0.0</td>\n",
       "      <td>0.0</td>\n",
       "      <td>0.0</td>\n",
       "      <td>0.0</td>\n",
       "      <td>0.0</td>\n",
       "      <td>0.0</td>\n",
       "      <td>0.0</td>\n",
       "      <td>0.0</td>\n",
       "      <td>0.0</td>\n",
       "      <td>0.0</td>\n",
       "      <td>...</td>\n",
       "      <td>0.0</td>\n",
       "      <td>0.0</td>\n",
       "      <td>0.0</td>\n",
       "      <td>0.0</td>\n",
       "      <td>0.0</td>\n",
       "      <td>0.0</td>\n",
       "      <td>0.0</td>\n",
       "      <td>0.0</td>\n",
       "      <td>0.0</td>\n",
       "      <td>0.0</td>\n",
       "    </tr>\n",
       "    <tr>\n",
       "      <th>04101Brewer</th>\n",
       "      <td>0.0</td>\n",
       "      <td>0.0</td>\n",
       "      <td>0.0</td>\n",
       "      <td>0.0</td>\n",
       "      <td>0.0</td>\n",
       "      <td>0.0</td>\n",
       "      <td>0.0</td>\n",
       "      <td>0.0</td>\n",
       "      <td>0.0</td>\n",
       "      <td>0.0</td>\n",
       "      <td>...</td>\n",
       "      <td>0.0</td>\n",
       "      <td>0.0</td>\n",
       "      <td>0.0</td>\n",
       "      <td>0.0</td>\n",
       "      <td>0.0</td>\n",
       "      <td>0.0</td>\n",
       "      <td>0.0</td>\n",
       "      <td>0.0</td>\n",
       "      <td>0.0</td>\n",
       "      <td>0.0</td>\n",
       "    </tr>\n",
       "    <tr>\n",
       "      <th>05Harley</th>\n",
       "      <td>0.0</td>\n",
       "      <td>0.0</td>\n",
       "      <td>0.0</td>\n",
       "      <td>0.0</td>\n",
       "      <td>0.0</td>\n",
       "      <td>0.0</td>\n",
       "      <td>0.0</td>\n",
       "      <td>0.0</td>\n",
       "      <td>0.0</td>\n",
       "      <td>0.0</td>\n",
       "      <td>...</td>\n",
       "      <td>0.0</td>\n",
       "      <td>0.0</td>\n",
       "      <td>0.0</td>\n",
       "      <td>0.0</td>\n",
       "      <td>0.0</td>\n",
       "      <td>0.0</td>\n",
       "      <td>0.0</td>\n",
       "      <td>0.0</td>\n",
       "      <td>0.0</td>\n",
       "      <td>0.0</td>\n",
       "    </tr>\n",
       "    <tr>\n",
       "      <th>0runkp0s</th>\n",
       "      <td>0.0</td>\n",
       "      <td>0.0</td>\n",
       "      <td>0.0</td>\n",
       "      <td>0.0</td>\n",
       "      <td>0.0</td>\n",
       "      <td>0.0</td>\n",
       "      <td>0.0</td>\n",
       "      <td>0.0</td>\n",
       "      <td>0.0</td>\n",
       "      <td>0.0</td>\n",
       "      <td>...</td>\n",
       "      <td>0.0</td>\n",
       "      <td>0.0</td>\n",
       "      <td>0.0</td>\n",
       "      <td>0.0</td>\n",
       "      <td>0.0</td>\n",
       "      <td>0.0</td>\n",
       "      <td>0.0</td>\n",
       "      <td>0.0</td>\n",
       "      <td>0.0</td>\n",
       "      <td>0.0</td>\n",
       "    </tr>\n",
       "  </tbody>\n",
       "</table>\n",
       "<p>5 rows × 17578 columns</p>\n",
       "</div>"
      ],
      "text/plain": [
       "beer_name           \"100\" Pale Ale  \"33\" Export  \"76\" Anniversary Ale  \\\n",
       "review_profilename                                                      \n",
       "0110x011                       0.0          0.0                   0.0   \n",
       "03SVTCobra                     0.0          0.0                   0.0   \n",
       "04101Brewer                    0.0          0.0                   0.0   \n",
       "05Harley                       0.0          0.0                   0.0   \n",
       "0runkp0s                       0.0          0.0                   0.0   \n",
       "\n",
       "beer_name           \"76\" Anniversary Ale With English Hops  \\\n",
       "review_profilename                                           \n",
       "0110x011                                               0.0   \n",
       "03SVTCobra                                             0.0   \n",
       "04101Brewer                                            0.0   \n",
       "05Harley                                               0.0   \n",
       "0runkp0s                                               0.0   \n",
       "\n",
       "beer_name           \"Fade To Black\" Porter  \"Great Satchmo\" Stout  \\\n",
       "review_profilename                                                  \n",
       "0110x011                               0.0                    0.0   \n",
       "03SVTCobra                             0.0                    0.0   \n",
       "04101Brewer                            0.0                    0.0   \n",
       "05Harley                               0.0                    0.0   \n",
       "0runkp0s                               0.0                    0.0   \n",
       "\n",
       "beer_name           \"Jessica & Brendan's\" Bridal Ale  \\\n",
       "review_profilename                                     \n",
       "0110x011                                         0.0   \n",
       "03SVTCobra                                       0.0   \n",
       "04101Brewer                                      0.0   \n",
       "05Harley                                         0.0   \n",
       "0runkp0s                                         0.0   \n",
       "\n",
       "beer_name           \"Just One More\" Scotch Ale  \"Nein Toll Bier\" German Alt  \\\n",
       "review_profilename                                                            \n",
       "0110x011                                   0.0                          0.0   \n",
       "03SVTCobra                                 0.0                          0.0   \n",
       "04101Brewer                                0.0                          0.0   \n",
       "05Harley                                   0.0                          0.0   \n",
       "0runkp0s                                   0.0                          0.0   \n",
       "\n",
       "beer_name           \"O Smokey Night\"  ...  Über Pils  \\\n",
       "review_profilename                    ...              \n",
       "0110x011                         0.0  ...        0.0   \n",
       "03SVTCobra                       0.0  ...        0.0   \n",
       "04101Brewer                      0.0  ...        0.0   \n",
       "05Harley                         0.0  ...        0.0   \n",
       "0runkp0s                         0.0  ...        0.0   \n",
       "\n",
       "beer_name           ÜberSun (Imperial Summer Wheat Beer)  \\\n",
       "review_profilename                                         \n",
       "0110x011                                             0.0   \n",
       "03SVTCobra                                           0.0   \n",
       "04101Brewer                                          0.0   \n",
       "05Harley                                             0.0   \n",
       "0runkp0s                                             0.0   \n",
       "\n",
       "beer_name           à L'Agave Et Au Citron Vert  überPils  Świąteczne  \\\n",
       "review_profilename                                                      \n",
       "0110x011                                    0.0       0.0         0.0   \n",
       "03SVTCobra                                  0.0       0.0         0.0   \n",
       "04101Brewer                                 0.0       0.0         0.0   \n",
       "05Harley                                    0.0       0.0         0.0   \n",
       "0runkp0s                                    0.0       0.0         0.0   \n",
       "\n",
       "beer_name           Švyturys Nefiltruotas Raw  Žamberecký Kanec 14°  \\\n",
       "review_profilename                                                     \n",
       "0110x011                                  0.0                    0.0   \n",
       "03SVTCobra                                0.0                    0.0   \n",
       "04101Brewer                               0.0                    0.0   \n",
       "05Harley                                  0.0                    0.0   \n",
       "0runkp0s                                  0.0                    0.0   \n",
       "\n",
       "beer_name           Žamberecký Kanec Imperial Stout  \\\n",
       "review_profilename                                     \n",
       "0110x011                                         0.0   \n",
       "03SVTCobra                                       0.0   \n",
       "04101Brewer                                      0.0   \n",
       "05Harley                                         0.0   \n",
       "0runkp0s                                         0.0   \n",
       "\n",
       "beer_name           横須賀ビアサケ (Yokosuka Biasake)  葉山ビール (Hayama Beer)  \n",
       "review_profilename                                                   \n",
       "0110x011                                   0.0                  0.0  \n",
       "03SVTCobra                                 0.0                  0.0  \n",
       "04101Brewer                                0.0                  0.0  \n",
       "05Harley                                   0.0                  0.0  \n",
       "0runkp0s                                   0.0                  0.0  \n",
       "\n",
       "[5 rows x 17578 columns]"
      ]
     },
     "execution_count": 6,
     "metadata": {},
     "output_type": "execute_result"
    }
   ],
   "source": [
    "# create a sparse pivot table\n",
    "df_pivot = df.pivot_table(index='review_profilename', columns='beer_name', values='review_overall').fillna(0)"
   ]
  },
  {
   "cell_type": "markdown",
   "metadata": {},
   "source": [
    "Next we need to determine the number of components we want to use for our truncated SVD.\n",
    "\n",
    "We decide this value by using Catell's [scree test](https://en.wikipedia.org/wiki/Scree_plot). We'll plot the eigenvalues of different component values, and determine the number of components that would best suit our TSVD."
   ]
  },
  {
   "cell_type": "code",
   "execution_count": 21,
   "metadata": {},
   "outputs": [
    {
     "data": {
      "text/plain": [
       "(17578, 22373)"
      ]
     },
     "execution_count": 21,
     "metadata": {},
     "output_type": "execute_result"
    }
   ],
   "source": [
    "T = df_pivot.values.T\n",
    "T.shape"
   ]
  },
  {
   "cell_type": "code",
   "execution_count": 25,
   "metadata": {},
   "outputs": [],
   "source": [
    "def explained_variance(list_n_components):\n",
    "    \n",
    "    out = []\n",
    "    \n",
    "    for num in list_n_components:\n",
    "        SVD = TruncatedSVD(n_components=num,random_state=num)\n",
    "        SVD.fit_transform(T)\n",
    "        evar = np.sum(SVD.explained_variance_ratio_)\n",
    "        t = (num,evar)\n",
    "        out.append(t)\n",
    "    \n",
    "    return out"
   ]
  },
  {
   "cell_type": "code",
   "execution_count": 35,
   "metadata": {},
   "outputs": [],
   "source": [
    "n = [50,100,150,200,250,300,400,600,700,1000,1200,1400,1500]\n",
    "exp_var = explained_variance(n)"
   ]
  },
  {
   "cell_type": "code",
   "execution_count": 36,
   "metadata": {},
   "outputs": [
    {
     "data": {
      "text/plain": [
       "[<matplotlib.lines.Line2D at 0x7fcfe8d835b0>]"
      ]
     },
     "execution_count": 36,
     "metadata": {},
     "output_type": "execute_result"
    },
    {
     "data": {
      "image/png": "[encoded data removed]",
      "text/plain": [
       "<Figure size 432x288 with 1 Axes>"
      ]
     },
     "metadata": {
      "needs_background": "light"
     },
     "output_type": "display_data"
    }
   ],
   "source": [
    "x,y = zip(*exp_var)\n",
    "plt.plot(x, y)"
   ]
  },
  {
   "cell_type": "markdown",
   "metadata": {},
   "source": [
    "Looking at the plot, we see that the number of components starts to level off at around 600 components.\n",
    "\n",
    "So, we will create a TSVD with 600 components."
   ]
  },
  {
   "cell_type": "code",
   "execution_count": 53,
   "metadata": {},
   "outputs": [],
   "source": [
    "SVD = TruncatedSVD(n_components=600,random_state=600)\n",
    "matrix = SVD.fit_transform(T)"
   ]
  },
  {
   "cell_type": "code",
   "execution_count": 54,
   "metadata": {},
   "outputs": [],
   "source": [
    "#Create the correlation matrix\n",
    "corr = np.corrcoef(matrix)"
   ]
  },
  {
   "cell_type": "code",
   "execution_count": 55,
   "metadata": {},
   "outputs": [],
   "source": [
    "#Put all the beer names in a list\n",
    "beer_names = df_pivot.columns\n",
    "beer_names_list = list(beer_names)"
   ]
  },
  {
   "cell_type": "code",
   "execution_count": 61,
   "metadata": {},
   "outputs": [],
   "source": [
    "#Takes in the name of the beer and returns the top n nunber of recommended beers\n",
    "\n",
    "def beer_recs(beer_name, n):\n",
    "\n",
    "    beer_idx = beer_names_list.index(beer_name)\n",
    "    \n",
    "    sim_idx = corr[beer_idx] #Get the similararity index of the input beer\n",
    "\n",
    "    #Create a list of tuples (beer name, correlation coefficient)\n",
    "    similar = []    \n",
    "    for idx, coeff in enumerate(sim_idx):\n",
    "        similar.append((beer_names_list[idx],coeff))\n",
    "    \n",
    "    similar.sort(key=lambda x: x[1], reverse=True)\n",
    "    \n",
    "    out = []\n",
    "    \n",
    "    for i in range(1,n+1):\n",
    "        out.append(similar[i][0])\n",
    "        \n",
    "    return out"
   ]
  },
  {
   "cell_type": "code",
   "execution_count": 62,
   "metadata": {},
   "outputs": [
    {
     "data": {
      "text/plain": [
       "['Barrel Aged Farmhouse IPA',\n",
       " 'Lift Ticket Winter Ale',\n",
       " 'Nemesis Strong Ale',\n",
       " 'One Hop Wonder Version 12',\n",
       " 'The Ascent']"
      ]
     },
     "execution_count": 62,
     "metadata": {},
     "output_type": "execute_result"
    }
   ],
   "source": [
    "beer_recs('One Hop Wonder Version 12',5)"
   ]
  },
  {
   "cell_type": "code",
   "execution_count": 63,
   "metadata": {},
   "outputs": [
    {
     "data": {
      "text/plain": [
       "['Lift Ticket Winter Ale',\n",
       " 'Nemesis Strong Ale',\n",
       " 'One Hop Wonder Version 12',\n",
       " 'The Ascent',\n",
       " 'Cask Pale']"
      ]
     },
     "execution_count": 63,
     "metadata": {},
     "output_type": "execute_result"
    }
   ],
   "source": [
    "beer_recs('Lift Ticket Winter Ale',5)"
   ]
  },
  {
   "cell_type": "code",
   "execution_count": 64,
   "metadata": {},
   "outputs": [
    {
     "data": {
      "text/plain": [
       "['Tamerlane Brown Porter',\n",
       " 'Mild Thing',\n",
       " 'Mt. Takhoma Blonde Ale',\n",
       " \"Hale's Special Bitter\",\n",
       " 'Second Sight Strong Scotch Ale']"
      ]
     },
     "execution_count": 64,
     "metadata": {},
     "output_type": "execute_result"
    }
   ],
   "source": [
    "beer_recs('Totem Pale',5)"
   ]
  },
  {
   "cell_type": "code",
   "execution_count": 65,
   "metadata": {},
   "outputs": [
    {
     "data": {
      "text/plain": [
       "['Keystone Ice',\n",
       " 'Old Milwaukee Beer',\n",
       " 'Aspen Edge',\n",
       " 'Lone Star Beer',\n",
       " 'Heineken Premium Light Lager']"
      ]
     },
     "execution_count": 65,
     "metadata": {},
     "output_type": "execute_result"
    }
   ],
   "source": [
    "beer_recs('Coors',5)"
   ]
  },
  {
   "cell_type": "code",
   "execution_count": null,
   "metadata": {},
   "outputs": [],
   "source": []
  }
 ],
 "metadata": {
  "kernelspec": {
   "display_name": "Python 3",
   "language": "python",
   "name": "python3"
  },
  "language_info": {
   "codemirror_mode": {
    "name": "ipython",
    "version": 3
   },
   "file_extension": ".py",
   "mimetype": "text/x-python",
   "name": "python",
   "nbconvert_exporter": "python",
   "pygments_lexer": "ipython3",
   "version": "3.8.5"
  }
 },
 "nbformat": 4,
 "nbformat_minor": 4
}
