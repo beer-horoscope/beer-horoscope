{
 "cells": [
  {
   "cell_type": "markdown",
   "metadata": {},
   "source": [
    "In this model we will use a [cosine similarity](https://en.wikipedia.org/wiki/Cosine_similarity) metric, which we can use for content-based filtering by comparing the beers directly to each other.\n",
    "\n",
    "We'll collect the attributes of all the beers into a [bag-of-words](https://en.wikipedia.org/wiki/Bag-of-words_model) and calculate the similarity between those attributes."
   ]
  },
  {
   "cell_type": "code",
   "execution_count": 104,
   "metadata": {},
   "outputs": [],
   "source": [
    "import pandas as pd\n",
    "import pickle \n",
    "\n",
    "from sklearn.feature_extraction.text import CountVectorizer\n",
    "from sklearn.metrics.pairwise import cosine_similarity"
   ]
  },
  {
   "cell_type": "markdown",
   "metadata": {},
   "source": [
    "First, we modify our data to be two columns, the beer name and the attributes that describe the beer in string format. "
   ]
  },
  {
   "cell_type": "code",
   "execution_count": 149,
   "metadata": {},
   "outputs": [
    {
     "data": {
      "text/html": [
       "<div>\n",
       "<style scoped>\n",
       "    .dataframe tbody tr th:only-of-type {\n",
       "        vertical-align: middle;\n",
       "    }\n",
       "\n",
       "    .dataframe tbody tr th {\n",
       "        vertical-align: top;\n",
       "    }\n",
       "\n",
       "    .dataframe thead th {\n",
       "        text-align: right;\n",
       "    }\n",
       "</style>\n",
       "<table border=\"1\" class=\"dataframe\">\n",
       "  <thead>\n",
       "    <tr style=\"text-align: right;\">\n",
       "      <th></th>\n",
       "      <th>beer_name</th>\n",
       "      <th>key_words</th>\n",
       "    </tr>\n",
       "  </thead>\n",
       "  <tbody>\n",
       "    <tr>\n",
       "      <th>0</th>\n",
       "      <td>Sausa Weizen</td>\n",
       "      <td>vecchio birraio_hefeweizen</td>\n",
       "    </tr>\n",
       "    <tr>\n",
       "      <th>1</th>\n",
       "      <td>Red Moon</td>\n",
       "      <td>vecchio birraio_english strong ale</td>\n",
       "    </tr>\n",
       "    <tr>\n",
       "      <th>2</th>\n",
       "      <td>Black Horse Black Beer</td>\n",
       "      <td>vecchio birraio_foreign / export stout</td>\n",
       "    </tr>\n",
       "    <tr>\n",
       "      <th>3</th>\n",
       "      <td>Sausa Pils</td>\n",
       "      <td>vecchio birraio_german pilsener</td>\n",
       "    </tr>\n",
       "    <tr>\n",
       "      <th>4</th>\n",
       "      <td>Cauldron DIPA</td>\n",
       "      <td>caldera brewing company_american double / impe...</td>\n",
       "    </tr>\n",
       "  </tbody>\n",
       "</table>\n",
       "</div>"
      ],
      "text/plain": [
       "                beer_name                                          key_words\n",
       "0            Sausa Weizen                         vecchio birraio_hefeweizen\n",
       "1                Red Moon                 vecchio birraio_english strong ale\n",
       "2  Black Horse Black Beer             vecchio birraio_foreign / export stout\n",
       "3              Sausa Pils                    vecchio birraio_german pilsener\n",
       "4           Cauldron DIPA  caldera brewing company_american double / impe..."
      ]
     },
     "execution_count": 149,
     "metadata": {},
     "output_type": "execute_result"
    }
   ],
   "source": [
    "#Read in data from pickle\n",
    "\n",
    "df = pd.read_pickle(\"beer_data.pickle\")\n",
    "\n",
    "df = df.drop_duplicates(subset=['beer_name'])\n",
    "\n",
    "cols = ['brewery_name', 'beer_style']\n",
    "df['key_words'] = df[cols].apply(lambda row: '_'.join(row.values.astype(str)), axis=1)\n",
    "\n",
    "dfbag = df[['beer_name', 'key_words']].copy()\n",
    "\n",
    "dfbag[\"key_words\"] = dfbag[\"key_words\"].str.lower()\n",
    "dfbag[\"key_words\"] = dfbag[\"key_words\"].replace('/', '')\n",
    "\n",
    "dfbag = dfbag.reset_index(drop=True)"
   ]
  },
  {
   "cell_type": "markdown",
   "metadata": {},
   "source": [
    "We will create a matrix using the sk-learn's CountVectorizer. This module allows use to use textual data for predictive modeling. For this to happen, the text needs to be parsed to remove certain words, also known as tokenization. Those words then need to be encoded as integers for use as inputs in ML algorithms. This entire process is cqalled feature extraction."
   ]
  },
  {
   "cell_type": "code",
   "execution_count": 150,
   "metadata": {},
   "outputs": [
    {
     "data": {
      "text/plain": [
       "(17578, 4882)"
      ]
     },
     "execution_count": 150,
     "metadata": {},
     "output_type": "execute_result"
    }
   ],
   "source": [
    "count = CountVectorizer()\n",
    "count_matrix = count.fit_transform(dfbag['key_words'])\n",
    "count_matrix.shape"
   ]
  },
  {
   "cell_type": "code",
   "execution_count": 151,
   "metadata": {},
   "outputs": [],
   "source": [
    "#Generate the cosine similarity matrix\n",
    "cosine_sim = cosine_similarity(count_matrix, count_matrix)"
   ]
  },
  {
   "cell_type": "code",
   "execution_count": 152,
   "metadata": {},
   "outputs": [
    {
     "data": {
      "text/plain": [
       "12607    Coors\n",
       "Name: beer_name, dtype: object"
      ]
     },
     "execution_count": 152,
     "metadata": {},
     "output_type": "execute_result"
    }
   ],
   "source": [
    "# Create a Series for the beers so they are associated to an ordered numerical list\n",
    "indices = pd.Series(dfbag['beer_name'])\n",
    "indices[indices == 'Coors']"
   ]
  },
  {
   "cell_type": "code",
   "execution_count": 153,
   "metadata": {},
   "outputs": [],
   "source": [
    "#Takes in the name of the beer and returns the top n nunber of recommended beers\n",
    "\n",
    "def beer_recs(string, n, cosine_sim = cosine_sim):\n",
    "    \n",
    "    recommended_beers = []\n",
    "    \n",
    "    #Get the index of the beer that matches the beer name\n",
    "    idx = indices[indices == string].index[0]\n",
    "    \n",
    "    #Creating a Series with the similarity scores in descending order\n",
    "    score_series = pd.Series(cosine_sim[idx]).sort_values(ascending = False)\n",
    "\n",
    "    #Get the indices of the n most similar unique beers\n",
    "    n = n + 1\n",
    "    top_n_indexes = list(score_series.iloc[1:n].index)\n",
    "    \n",
    "    #Populating the list with the names of the n most similar beers\n",
    "    for i in top_n_indexes:\n",
    "        recommended_beers.append(dfbag.iloc[i]['beer_name'])\n",
    "        \n",
    "    return recommended_beers"
   ]
  },
  {
   "cell_type": "code",
   "execution_count": 154,
   "metadata": {
    "scrolled": true
   },
   "outputs": [
    {
     "data": {
      "text/plain": [
       "['Red God IPA',\n",
       " 'Founders Hand Of Doom',\n",
       " 'Scratch Beer 55 - 2011 (Double IPA)',\n",
       " 'Scratch Beer 20 - 2009',\n",
       " 'Dead Flowers']"
      ]
     },
     "execution_count": 154,
     "metadata": {},
     "output_type": "execute_result"
    }
   ],
   "source": [
    "beer_recs('Cauldron DIPA', 5)"
   ]
  },
  {
   "cell_type": "code",
   "execution_count": 155,
   "metadata": {},
   "outputs": [
    {
     "data": {
      "text/plain": [
       "['Sausa Pils',\n",
       " 'Red Moon',\n",
       " 'Black Horse Black Beer',\n",
       " 'Hillsborough River Dry Stout (Patio Tools) - Cedar Aged (Humidor Series)',\n",
       " \"Marshal Zhukov's Imperial Stout - Brandy Barrel Aged\"]"
      ]
     },
     "execution_count": 155,
     "metadata": {},
     "output_type": "execute_result"
    }
   ],
   "source": [
    "beer_recs('Sausa Weizen', 5)"
   ]
  },
  {
   "cell_type": "code",
   "execution_count": 156,
   "metadata": {},
   "outputs": [
    {
     "data": {
      "text/plain": [
       "['Coors Extra Gold',\n",
       " 'Keystone Premium',\n",
       " 'Coors',\n",
       " 'Batch 19',\n",
       " 'Grain Belt Premium (old)']"
      ]
     },
     "execution_count": 156,
     "metadata": {},
     "output_type": "execute_result"
    }
   ],
   "source": [
    "beer_recs('Coors', 5)"
   ]
  },
  {
   "cell_type": "code",
   "execution_count": null,
   "metadata": {},
   "outputs": [],
   "source": []
  }
 ],
 "metadata": {
  "kernelspec": {
   "display_name": "Python 3",
   "language": "python",
   "name": "python3"
  },
  "language_info": {
   "codemirror_mode": {
    "name": "ipython",
    "version": 3
   },
   "file_extension": ".py",
   "mimetype": "text/x-python",
   "name": "python",
   "nbconvert_exporter": "python",
   "pygments_lexer": "ipython3",
   "version": "3.8.5"
  }
 },
 "nbformat": 4,
 "nbformat_minor": 4
}
